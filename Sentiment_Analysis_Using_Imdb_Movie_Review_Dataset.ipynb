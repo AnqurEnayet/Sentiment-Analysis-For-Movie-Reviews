{
  "nbformat": 4,
  "nbformat_minor": 0,
  "metadata": {
    "colab": {
      "provenance": [],
      "mount_file_id": "1sk6CSSEYSP4LgXCoSbHmHokhTeWysApi",
      "authorship_tag": "ABX9TyNXhnHBkwiCsKiyuMl/zWgi",
      "include_colab_link": true
    },
    "kernelspec": {
      "name": "python3",
      "display_name": "Python 3"
    },
    "language_info": {
      "name": "python"
    }
  },
  "cells": [
    {
      "cell_type": "markdown",
      "metadata": {
        "id": "view-in-github",
        "colab_type": "text"
      },
      "source": [
        "<a href=\"https://colab.research.google.com/github/AnqurEnayet/Sentiment-Analysis-For-Movie-Reviews/blob/main/Sentiment_Analysis_Using_Imdb_Movie_Review_Dataset.ipynb\" target=\"_parent\"><img src=\"https://colab.research.google.com/assets/colab-badge.svg\" alt=\"Open In Colab\"/></a>"
      ]
    },
    {
      "cell_type": "code",
      "execution_count": 2,
      "metadata": {
        "id": "4ReUAbSUC0Eb"
      },
      "outputs": [],
      "source": [
        "import pandas as pd\n",
        "import numpy as np\n",
        "import matplotlib.pyplot as plt"
      ]
    },
    {
      "cell_type": "code",
      "source": [
        "#reading the data\n",
        "df = pd.read_csv('https://raw.githubusercontent.com/MehmetFiratKomurcu/IMDBReviewClassification/master/imdb_master.csv', encoding = 'latin-1', index_col = 0)\n",
        "df\n"
      ],
      "metadata": {
        "colab": {
          "base_uri": "https://localhost:8080/",
          "height": 423
        },
        "id": "Uilxj8IxEVIv",
        "outputId": "ba26096b-d712-4963-890a-c56141d92a4d"
      },
      "execution_count": 3,
      "outputs": [
        {
          "output_type": "execute_result",
          "data": {
            "text/plain": [
              "        type                                             review label  \\\n",
              "0       test  Once again Mr. Costner has dragged out a movie...   neg   \n",
              "1       test  This is an example of why the majority of acti...   neg   \n",
              "2       test  First of all I hate those moronic rappers, who...   neg   \n",
              "3       test  Not even the Beatles could write songs everyon...   neg   \n",
              "4       test  Brass pictures (movies is not a fitting word f...   neg   \n",
              "...      ...                                                ...   ...   \n",
              "49995  train  Seeing as the vote average was pretty low, and...   pos   \n",
              "49996  train  The plot had some wretched, unbelievable twist...   pos   \n",
              "49997  train  I am amazed at how this movie(and most others ...   pos   \n",
              "49998  train  A Christmas Together actually came before my t...   pos   \n",
              "49999  train  Working-class romantic drama from director Mar...   pos   \n",
              "\n",
              "              file  \n",
              "0          0_2.txt  \n",
              "1      10000_4.txt  \n",
              "2      10001_1.txt  \n",
              "3      10002_3.txt  \n",
              "4      10003_3.txt  \n",
              "...            ...  \n",
              "49995   9998_9.txt  \n",
              "49996   9999_8.txt  \n",
              "49997   999_10.txt  \n",
              "49998     99_8.txt  \n",
              "49999      9_7.txt  \n",
              "\n",
              "[50000 rows x 4 columns]"
            ],
            "text/html": [
              "\n",
              "  <div id=\"df-c5b60a5f-fc53-454e-8edb-5ce89cce8df9\">\n",
              "    <div class=\"colab-df-container\">\n",
              "      <div>\n",
              "<style scoped>\n",
              "    .dataframe tbody tr th:only-of-type {\n",
              "        vertical-align: middle;\n",
              "    }\n",
              "\n",
              "    .dataframe tbody tr th {\n",
              "        vertical-align: top;\n",
              "    }\n",
              "\n",
              "    .dataframe thead th {\n",
              "        text-align: right;\n",
              "    }\n",
              "</style>\n",
              "<table border=\"1\" class=\"dataframe\">\n",
              "  <thead>\n",
              "    <tr style=\"text-align: right;\">\n",
              "      <th></th>\n",
              "      <th>type</th>\n",
              "      <th>review</th>\n",
              "      <th>label</th>\n",
              "      <th>file</th>\n",
              "    </tr>\n",
              "  </thead>\n",
              "  <tbody>\n",
              "    <tr>\n",
              "      <th>0</th>\n",
              "      <td>test</td>\n",
              "      <td>Once again Mr. Costner has dragged out a movie...</td>\n",
              "      <td>neg</td>\n",
              "      <td>0_2.txt</td>\n",
              "    </tr>\n",
              "    <tr>\n",
              "      <th>1</th>\n",
              "      <td>test</td>\n",
              "      <td>This is an example of why the majority of acti...</td>\n",
              "      <td>neg</td>\n",
              "      <td>10000_4.txt</td>\n",
              "    </tr>\n",
              "    <tr>\n",
              "      <th>2</th>\n",
              "      <td>test</td>\n",
              "      <td>First of all I hate those moronic rappers, who...</td>\n",
              "      <td>neg</td>\n",
              "      <td>10001_1.txt</td>\n",
              "    </tr>\n",
              "    <tr>\n",
              "      <th>3</th>\n",
              "      <td>test</td>\n",
              "      <td>Not even the Beatles could write songs everyon...</td>\n",
              "      <td>neg</td>\n",
              "      <td>10002_3.txt</td>\n",
              "    </tr>\n",
              "    <tr>\n",
              "      <th>4</th>\n",
              "      <td>test</td>\n",
              "      <td>Brass pictures (movies is not a fitting word f...</td>\n",
              "      <td>neg</td>\n",
              "      <td>10003_3.txt</td>\n",
              "    </tr>\n",
              "    <tr>\n",
              "      <th>...</th>\n",
              "      <td>...</td>\n",
              "      <td>...</td>\n",
              "      <td>...</td>\n",
              "      <td>...</td>\n",
              "    </tr>\n",
              "    <tr>\n",
              "      <th>49995</th>\n",
              "      <td>train</td>\n",
              "      <td>Seeing as the vote average was pretty low, and...</td>\n",
              "      <td>pos</td>\n",
              "      <td>9998_9.txt</td>\n",
              "    </tr>\n",
              "    <tr>\n",
              "      <th>49996</th>\n",
              "      <td>train</td>\n",
              "      <td>The plot had some wretched, unbelievable twist...</td>\n",
              "      <td>pos</td>\n",
              "      <td>9999_8.txt</td>\n",
              "    </tr>\n",
              "    <tr>\n",
              "      <th>49997</th>\n",
              "      <td>train</td>\n",
              "      <td>I am amazed at how this movie(and most others ...</td>\n",
              "      <td>pos</td>\n",
              "      <td>999_10.txt</td>\n",
              "    </tr>\n",
              "    <tr>\n",
              "      <th>49998</th>\n",
              "      <td>train</td>\n",
              "      <td>A Christmas Together actually came before my t...</td>\n",
              "      <td>pos</td>\n",
              "      <td>99_8.txt</td>\n",
              "    </tr>\n",
              "    <tr>\n",
              "      <th>49999</th>\n",
              "      <td>train</td>\n",
              "      <td>Working-class romantic drama from director Mar...</td>\n",
              "      <td>pos</td>\n",
              "      <td>9_7.txt</td>\n",
              "    </tr>\n",
              "  </tbody>\n",
              "</table>\n",
              "<p>50000 rows × 4 columns</p>\n",
              "</div>\n",
              "      <button class=\"colab-df-convert\" onclick=\"convertToInteractive('df-c5b60a5f-fc53-454e-8edb-5ce89cce8df9')\"\n",
              "              title=\"Convert this dataframe to an interactive table.\"\n",
              "              style=\"display:none;\">\n",
              "        \n",
              "  <svg xmlns=\"http://www.w3.org/2000/svg\" height=\"24px\"viewBox=\"0 0 24 24\"\n",
              "       width=\"24px\">\n",
              "    <path d=\"M0 0h24v24H0V0z\" fill=\"none\"/>\n",
              "    <path d=\"M18.56 5.44l.94 2.06.94-2.06 2.06-.94-2.06-.94-.94-2.06-.94 2.06-2.06.94zm-11 1L8.5 8.5l.94-2.06 2.06-.94-2.06-.94L8.5 2.5l-.94 2.06-2.06.94zm10 10l.94 2.06.94-2.06 2.06-.94-2.06-.94-.94-2.06-.94 2.06-2.06.94z\"/><path d=\"M17.41 7.96l-1.37-1.37c-.4-.4-.92-.59-1.43-.59-.52 0-1.04.2-1.43.59L10.3 9.45l-7.72 7.72c-.78.78-.78 2.05 0 2.83L4 21.41c.39.39.9.59 1.41.59.51 0 1.02-.2 1.41-.59l7.78-7.78 2.81-2.81c.8-.78.8-2.07 0-2.86zM5.41 20L4 18.59l7.72-7.72 1.47 1.35L5.41 20z\"/>\n",
              "  </svg>\n",
              "      </button>\n",
              "      \n",
              "  <style>\n",
              "    .colab-df-container {\n",
              "      display:flex;\n",
              "      flex-wrap:wrap;\n",
              "      gap: 12px;\n",
              "    }\n",
              "\n",
              "    .colab-df-convert {\n",
              "      background-color: #E8F0FE;\n",
              "      border: none;\n",
              "      border-radius: 50%;\n",
              "      cursor: pointer;\n",
              "      display: none;\n",
              "      fill: #1967D2;\n",
              "      height: 32px;\n",
              "      padding: 0 0 0 0;\n",
              "      width: 32px;\n",
              "    }\n",
              "\n",
              "    .colab-df-convert:hover {\n",
              "      background-color: #E2EBFA;\n",
              "      box-shadow: 0px 1px 2px rgba(60, 64, 67, 0.3), 0px 1px 3px 1px rgba(60, 64, 67, 0.15);\n",
              "      fill: #174EA6;\n",
              "    }\n",
              "\n",
              "    [theme=dark] .colab-df-convert {\n",
              "      background-color: #3B4455;\n",
              "      fill: #D2E3FC;\n",
              "    }\n",
              "\n",
              "    [theme=dark] .colab-df-convert:hover {\n",
              "      background-color: #434B5C;\n",
              "      box-shadow: 0px 1px 3px 1px rgba(0, 0, 0, 0.15);\n",
              "      filter: drop-shadow(0px 1px 2px rgba(0, 0, 0, 0.3));\n",
              "      fill: #FFFFFF;\n",
              "    }\n",
              "  </style>\n",
              "\n",
              "      <script>\n",
              "        const buttonEl =\n",
              "          document.querySelector('#df-c5b60a5f-fc53-454e-8edb-5ce89cce8df9 button.colab-df-convert');\n",
              "        buttonEl.style.display =\n",
              "          google.colab.kernel.accessAllowed ? 'block' : 'none';\n",
              "\n",
              "        async function convertToInteractive(key) {\n",
              "          const element = document.querySelector('#df-c5b60a5f-fc53-454e-8edb-5ce89cce8df9');\n",
              "          const dataTable =\n",
              "            await google.colab.kernel.invokeFunction('convertToInteractive',\n",
              "                                                     [key], {});\n",
              "          if (!dataTable) return;\n",
              "\n",
              "          const docLinkHtml = 'Like what you see? Visit the ' +\n",
              "            '<a target=\"_blank\" href=https://colab.research.google.com/notebooks/data_table.ipynb>data table notebook</a>'\n",
              "            + ' to learn more about interactive tables.';\n",
              "          element.innerHTML = '';\n",
              "          dataTable['output_type'] = 'display_data';\n",
              "          await google.colab.output.renderOutput(dataTable, element);\n",
              "          const docLink = document.createElement('div');\n",
              "          docLink.innerHTML = docLinkHtml;\n",
              "          element.appendChild(docLink);\n",
              "        }\n",
              "      </script>\n",
              "    </div>\n",
              "  </div>\n",
              "  "
            ]
          },
          "metadata": {},
          "execution_count": 3
        }
      ]
    },
    {
      "cell_type": "code",
      "source": [
        "#preprocessing\n",
        "movies = df.copy()"
      ],
      "metadata": {
        "id": "gpRTE2NjKQAb"
      },
      "execution_count": 4,
      "outputs": []
    },
    {
      "cell_type": "code",
      "source": [
        "#Data Cleaned\n",
        "movies.drop([\"file\",\"type\"], axis=1, inplace=True)"
      ],
      "metadata": {
        "id": "N4bCxnTnKcpT"
      },
      "execution_count": 5,
      "outputs": []
    },
    {
      "cell_type": "code",
      "source": [
        "movies = movies[movies['label'].isin(['pos', 'neg'])]\n",
        "movies"
      ],
      "metadata": {
        "colab": {
          "base_uri": "https://localhost:8080/",
          "height": 423
        },
        "id": "O1I31LuuK5ey",
        "outputId": "d68ce3c0-7d8b-40bf-89f5-ca7f8c840496"
      },
      "execution_count": 6,
      "outputs": [
        {
          "output_type": "execute_result",
          "data": {
            "text/plain": [
              "                                                  review label\n",
              "0      Once again Mr. Costner has dragged out a movie...   neg\n",
              "1      This is an example of why the majority of acti...   neg\n",
              "2      First of all I hate those moronic rappers, who...   neg\n",
              "3      Not even the Beatles could write songs everyon...   neg\n",
              "4      Brass pictures (movies is not a fitting word f...   neg\n",
              "...                                                  ...   ...\n",
              "49995  Seeing as the vote average was pretty low, and...   pos\n",
              "49996  The plot had some wretched, unbelievable twist...   pos\n",
              "49997  I am amazed at how this movie(and most others ...   pos\n",
              "49998  A Christmas Together actually came before my t...   pos\n",
              "49999  Working-class romantic drama from director Mar...   pos\n",
              "\n",
              "[50000 rows x 2 columns]"
            ],
            "text/html": [
              "\n",
              "  <div id=\"df-950491aa-bc7d-4f24-89ab-fc4e9e75dcce\">\n",
              "    <div class=\"colab-df-container\">\n",
              "      <div>\n",
              "<style scoped>\n",
              "    .dataframe tbody tr th:only-of-type {\n",
              "        vertical-align: middle;\n",
              "    }\n",
              "\n",
              "    .dataframe tbody tr th {\n",
              "        vertical-align: top;\n",
              "    }\n",
              "\n",
              "    .dataframe thead th {\n",
              "        text-align: right;\n",
              "    }\n",
              "</style>\n",
              "<table border=\"1\" class=\"dataframe\">\n",
              "  <thead>\n",
              "    <tr style=\"text-align: right;\">\n",
              "      <th></th>\n",
              "      <th>review</th>\n",
              "      <th>label</th>\n",
              "    </tr>\n",
              "  </thead>\n",
              "  <tbody>\n",
              "    <tr>\n",
              "      <th>0</th>\n",
              "      <td>Once again Mr. Costner has dragged out a movie...</td>\n",
              "      <td>neg</td>\n",
              "    </tr>\n",
              "    <tr>\n",
              "      <th>1</th>\n",
              "      <td>This is an example of why the majority of acti...</td>\n",
              "      <td>neg</td>\n",
              "    </tr>\n",
              "    <tr>\n",
              "      <th>2</th>\n",
              "      <td>First of all I hate those moronic rappers, who...</td>\n",
              "      <td>neg</td>\n",
              "    </tr>\n",
              "    <tr>\n",
              "      <th>3</th>\n",
              "      <td>Not even the Beatles could write songs everyon...</td>\n",
              "      <td>neg</td>\n",
              "    </tr>\n",
              "    <tr>\n",
              "      <th>4</th>\n",
              "      <td>Brass pictures (movies is not a fitting word f...</td>\n",
              "      <td>neg</td>\n",
              "    </tr>\n",
              "    <tr>\n",
              "      <th>...</th>\n",
              "      <td>...</td>\n",
              "      <td>...</td>\n",
              "    </tr>\n",
              "    <tr>\n",
              "      <th>49995</th>\n",
              "      <td>Seeing as the vote average was pretty low, and...</td>\n",
              "      <td>pos</td>\n",
              "    </tr>\n",
              "    <tr>\n",
              "      <th>49996</th>\n",
              "      <td>The plot had some wretched, unbelievable twist...</td>\n",
              "      <td>pos</td>\n",
              "    </tr>\n",
              "    <tr>\n",
              "      <th>49997</th>\n",
              "      <td>I am amazed at how this movie(and most others ...</td>\n",
              "      <td>pos</td>\n",
              "    </tr>\n",
              "    <tr>\n",
              "      <th>49998</th>\n",
              "      <td>A Christmas Together actually came before my t...</td>\n",
              "      <td>pos</td>\n",
              "    </tr>\n",
              "    <tr>\n",
              "      <th>49999</th>\n",
              "      <td>Working-class romantic drama from director Mar...</td>\n",
              "      <td>pos</td>\n",
              "    </tr>\n",
              "  </tbody>\n",
              "</table>\n",
              "<p>50000 rows × 2 columns</p>\n",
              "</div>\n",
              "      <button class=\"colab-df-convert\" onclick=\"convertToInteractive('df-950491aa-bc7d-4f24-89ab-fc4e9e75dcce')\"\n",
              "              title=\"Convert this dataframe to an interactive table.\"\n",
              "              style=\"display:none;\">\n",
              "        \n",
              "  <svg xmlns=\"http://www.w3.org/2000/svg\" height=\"24px\"viewBox=\"0 0 24 24\"\n",
              "       width=\"24px\">\n",
              "    <path d=\"M0 0h24v24H0V0z\" fill=\"none\"/>\n",
              "    <path d=\"M18.56 5.44l.94 2.06.94-2.06 2.06-.94-2.06-.94-.94-2.06-.94 2.06-2.06.94zm-11 1L8.5 8.5l.94-2.06 2.06-.94-2.06-.94L8.5 2.5l-.94 2.06-2.06.94zm10 10l.94 2.06.94-2.06 2.06-.94-2.06-.94-.94-2.06-.94 2.06-2.06.94z\"/><path d=\"M17.41 7.96l-1.37-1.37c-.4-.4-.92-.59-1.43-.59-.52 0-1.04.2-1.43.59L10.3 9.45l-7.72 7.72c-.78.78-.78 2.05 0 2.83L4 21.41c.39.39.9.59 1.41.59.51 0 1.02-.2 1.41-.59l7.78-7.78 2.81-2.81c.8-.78.8-2.07 0-2.86zM5.41 20L4 18.59l7.72-7.72 1.47 1.35L5.41 20z\"/>\n",
              "  </svg>\n",
              "      </button>\n",
              "      \n",
              "  <style>\n",
              "    .colab-df-container {\n",
              "      display:flex;\n",
              "      flex-wrap:wrap;\n",
              "      gap: 12px;\n",
              "    }\n",
              "\n",
              "    .colab-df-convert {\n",
              "      background-color: #E8F0FE;\n",
              "      border: none;\n",
              "      border-radius: 50%;\n",
              "      cursor: pointer;\n",
              "      display: none;\n",
              "      fill: #1967D2;\n",
              "      height: 32px;\n",
              "      padding: 0 0 0 0;\n",
              "      width: 32px;\n",
              "    }\n",
              "\n",
              "    .colab-df-convert:hover {\n",
              "      background-color: #E2EBFA;\n",
              "      box-shadow: 0px 1px 2px rgba(60, 64, 67, 0.3), 0px 1px 3px 1px rgba(60, 64, 67, 0.15);\n",
              "      fill: #174EA6;\n",
              "    }\n",
              "\n",
              "    [theme=dark] .colab-df-convert {\n",
              "      background-color: #3B4455;\n",
              "      fill: #D2E3FC;\n",
              "    }\n",
              "\n",
              "    [theme=dark] .colab-df-convert:hover {\n",
              "      background-color: #434B5C;\n",
              "      box-shadow: 0px 1px 3px 1px rgba(0, 0, 0, 0.15);\n",
              "      filter: drop-shadow(0px 1px 2px rgba(0, 0, 0, 0.3));\n",
              "      fill: #FFFFFF;\n",
              "    }\n",
              "  </style>\n",
              "\n",
              "      <script>\n",
              "        const buttonEl =\n",
              "          document.querySelector('#df-950491aa-bc7d-4f24-89ab-fc4e9e75dcce button.colab-df-convert');\n",
              "        buttonEl.style.display =\n",
              "          google.colab.kernel.accessAllowed ? 'block' : 'none';\n",
              "\n",
              "        async function convertToInteractive(key) {\n",
              "          const element = document.querySelector('#df-950491aa-bc7d-4f24-89ab-fc4e9e75dcce');\n",
              "          const dataTable =\n",
              "            await google.colab.kernel.invokeFunction('convertToInteractive',\n",
              "                                                     [key], {});\n",
              "          if (!dataTable) return;\n",
              "\n",
              "          const docLinkHtml = 'Like what you see? Visit the ' +\n",
              "            '<a target=\"_blank\" href=https://colab.research.google.com/notebooks/data_table.ipynb>data table notebook</a>'\n",
              "            + ' to learn more about interactive tables.';\n",
              "          element.innerHTML = '';\n",
              "          dataTable['output_type'] = 'display_data';\n",
              "          await google.colab.output.renderOutput(dataTable, element);\n",
              "          const docLink = document.createElement('div');\n",
              "          docLink.innerHTML = docLinkHtml;\n",
              "          element.appendChild(docLink);\n",
              "        }\n",
              "      </script>\n",
              "    </div>\n",
              "  </div>\n",
              "  "
            ]
          },
          "metadata": {},
          "execution_count": 6
        }
      ]
    },
    {
      "cell_type": "code",
      "source": [
        "\n",
        "#function for removing the html tags\n",
        "#\"<.*?>\"\" in this \"<>\"\" this part will find any type of string covered with this tag \"<>\"\n",
        "#The .*? part matches any character (except newline) in a non-greedy way, ensuring that it stops at the first closing angle bracket (>)\n",
        "import re\n",
        "\n",
        "def clean_html_tags(text):\n",
        "    cleaned_text = re.sub('<.*?>', '', text)\n",
        "    return cleaned_text\n",
        "\n",
        "movies['review'] = movies['review'].apply(clean_html_tags)"
      ],
      "metadata": {
        "id": "k0ir1hD-MB-x"
      },
      "execution_count": 7,
      "outputs": []
    },
    {
      "cell_type": "code",
      "source": [
        "#Making everything lowercase\n",
        "movies['review'] = movies['review'].str.lower()"
      ],
      "metadata": {
        "id": "Bxl6BmnUPfBP"
      },
      "execution_count": 23,
      "outputs": []
    },
    {
      "cell_type": "code",
      "source": [
        "#Tokenizing the reviews\n",
        "import nltk\n",
        "\n",
        "nltk.download('punkt')  # Download required resource for tokenization\n",
        "\n"
      ],
      "metadata": {
        "colab": {
          "base_uri": "https://localhost:8080/"
        },
        "id": "YXQzKG34Qhyk",
        "outputId": "32caeae3-a0fe-4783-8512-38d708d6f968"
      },
      "execution_count": 9,
      "outputs": [
        {
          "output_type": "stream",
          "name": "stderr",
          "text": [
            "[nltk_data] Downloading package punkt to /root/nltk_data...\n",
            "[nltk_data]   Unzipping tokenizers/punkt.zip.\n"
          ]
        }
      ]
    },
    {
      "cell_type": "code",
      "source": [
        "movies['review'] = movies['review'].apply(nltk.word_tokenize)"
      ],
      "metadata": {
        "id": "SpbHb_Zv6nZm"
      },
      "execution_count": 24,
      "outputs": []
    },
    {
      "cell_type": "code",
      "source": [
        "#removing stopwords\n",
        "nltk.download('stopwords')  # Download required resource for stopwords"
      ],
      "metadata": {
        "colab": {
          "base_uri": "https://localhost:8080/"
        },
        "id": "Jd6CI4VXSGlc",
        "outputId": "2f6634d9-51ce-4300-81c8-f088d6cba029"
      },
      "execution_count": 25,
      "outputs": [
        {
          "output_type": "stream",
          "name": "stderr",
          "text": [
            "[nltk_data] Downloading package stopwords to /root/nltk_data...\n",
            "[nltk_data]   Package stopwords is already up-to-date!\n"
          ]
        },
        {
          "output_type": "execute_result",
          "data": {
            "text/plain": [
              "True"
            ]
          },
          "metadata": {},
          "execution_count": 25
        }
      ]
    },
    {
      "cell_type": "code",
      "source": [
        "#implementing the function to clean the stopwords\n",
        "\n",
        "stopwords = nltk.corpus.stopwords.words('english')\n",
        "\n",
        "def remove_stopwords(tokens):\n",
        "    filtered_tokens = [i for i in tokens if i not in stopwords]\n",
        "    return filtered_tokens\n",
        "\n",
        "movies['review'] = movies['review'].apply(remove_stopwords)"
      ],
      "metadata": {
        "id": "ZTUXLxvD6sUo"
      },
      "execution_count": 26,
      "outputs": []
    },
    {
      "cell_type": "code",
      "source": [
        "movies['review']"
      ],
      "metadata": {
        "id": "2xdT91HZTC7M",
        "colab": {
          "base_uri": "https://localhost:8080/"
        },
        "outputId": "2a81f0c8-2301-4786-898d-1a943ba493ef"
      },
      "execution_count": 27,
      "outputs": [
        {
          "output_type": "execute_result",
          "data": {
            "text/plain": [
              "0        [mr., costner, drag, movi, far, longer, necess...\n",
              "1        [exampl, major, action, film, ., gener, bore, ...\n",
              "2        [first, hate, moron, rapper, ,, could'nt, act,...\n",
              "3        [even, beatl, could, write, song, everyon, lik...\n",
              "4        [brass, pictur, (, movi, fit, word, ), realli,...\n",
              "                               ...                        \n",
              "49995    [see, vote, averag, pretti, low, ,, fact, cler...\n",
              "49996    [plot, wretch, ,, unbeliev, twist, ., howev, ,...\n",
              "49997    [amaz, movi, (, averag, 5, star, lower, crappi...\n",
              "49998    [christma, togeth, actual, came, time, ,, 've,...\n",
              "49999    [working-class, romant, drama, director, marti...\n",
              "Name: review, Length: 50000, dtype: object"
            ]
          },
          "metadata": {},
          "execution_count": 27
        }
      ]
    },
    {
      "cell_type": "code",
      "source": [
        "#stemming\n",
        "from nltk.stem import PorterStemmer"
      ],
      "metadata": {
        "id": "_hoN5lzHUxMj"
      },
      "execution_count": 28,
      "outputs": []
    },
    {
      "cell_type": "code",
      "source": [
        "stemmer = PorterStemmer()\n",
        "\n",
        "def apply_stemming(tokens):\n",
        "    stemmed_tokens = [stemmer.stem(token) for token in tokens]\n",
        "    return stemmed_tokens\n",
        "\n",
        "movies['review'] = movies['review'].apply(apply_stemming)"
      ],
      "metadata": {
        "id": "FPUvJcE764Rv"
      },
      "execution_count": 29,
      "outputs": []
    },
    {
      "cell_type": "code",
      "source": [
        "#finishing preprocessing\n",
        "#movies['review'] = movies['review'].apply(' '.join)"
      ],
      "metadata": {
        "id": "uI012_3GU5KS"
      },
      "execution_count": 13,
      "outputs": []
    },
    {
      "cell_type": "code",
      "source": [
        "movies['review']"
      ],
      "metadata": {
        "colab": {
          "base_uri": "https://localhost:8080/"
        },
        "id": "we252p50VWuy",
        "outputId": "dc0cdb1e-d183-4be8-ef68-96f37b445c05"
      },
      "execution_count": 30,
      "outputs": [
        {
          "output_type": "execute_result",
          "data": {
            "text/plain": [
              "0        [mr., costner, drag, movi, far, longer, necess...\n",
              "1        [exampl, major, action, film, ., gener, bore, ...\n",
              "2        [first, hate, moron, rapper, ,, could'nt, act,...\n",
              "3        [even, beatl, could, write, song, everyon, lik...\n",
              "4        [brass, pictur, (, movi, fit, word, ), realli,...\n",
              "                               ...                        \n",
              "49995    [see, vote, averag, pretti, low, ,, fact, cler...\n",
              "49996    [plot, wretch, ,, unbeliev, twist, ., howev, ,...\n",
              "49997    [amaz, movi, (, averag, 5, star, lower, crappi...\n",
              "49998    [christma, togeth, actual, came, time, ,, 've,...\n",
              "49999    [working-class, romant, drama, director, marti...\n",
              "Name: review, Length: 50000, dtype: object"
            ]
          },
          "metadata": {},
          "execution_count": 30
        }
      ]
    },
    {
      "cell_type": "code",
      "source": [
        "# Count the number of positive and negative reviews\n",
        "sentiment_counts = movies['label'].value_counts()\n",
        "\n",
        "# Create a bar plot to visualize sentiment distribution\n",
        "plt.bar(sentiment_counts.index, sentiment_counts.values)\n",
        "plt.xlabel('Sentiment Label')\n",
        "plt.ylabel('Count')\n",
        "plt.title('Sentiment Distribution of IMDb Movie Reviews')\n",
        "plt.show()"
      ],
      "metadata": {
        "colab": {
          "base_uri": "https://localhost:8080/",
          "height": 472
        },
        "id": "bc5rzWLP0aL8",
        "outputId": "bb1ab2d9-85e3-49ea-a25a-38c465785ecd"
      },
      "execution_count": 31,
      "outputs": [
        {
          "output_type": "display_data",
          "data": {
            "text/plain": [
              "<Figure size 640x480 with 1 Axes>"
            ],
            "image/png": "[encoded data removed]"
          },
          "metadata": {}
        }
      ]
    },
    {
      "cell_type": "code",
      "source": [
        "#Feature extraction using word2vec\n",
        "from gensim.models import Word2Vec\n",
        "\n",
        "word2vec_model = Word2Vec(movies['review'], vector_size=100, window=5, min_count=1, sg=1, negative=4, workers=5)"
      ],
      "metadata": {
        "id": "fJHF6zXJ3Zyq"
      },
      "execution_count": 32,
      "outputs": []
    },
    {
      "cell_type": "code",
      "source": [
        "word2vec_model"
      ],
      "metadata": {
        "colab": {
          "base_uri": "https://localhost:8080/"
        },
        "id": "Zt-SnC8K6N-v",
        "outputId": "fbc1a6e3-950b-4043-c1da-91cd210e1f7f"
      },
      "execution_count": 21,
      "outputs": [
        {
          "output_type": "execute_result",
          "data": {
            "text/plain": [
              "<gensim.models.word2vec.Word2Vec at 0x7f9419bd6890>"
            ]
          },
          "metadata": {},
          "execution_count": 21
        }
      ]
    },
    {
      "cell_type": "code",
      "source": [
        "#extracting the feature by creating feature vector\n",
        "\n",
        "feature_vectors = []\n",
        "for review in movies['review']:\n",
        "    review_vector = []\n",
        "    for word in review:\n",
        "        if word in word2vec_model.wv:\n",
        "            review_vector.append(word2vec_model.wv[word])\n",
        "    if review_vector:\n",
        "        feature_vectors.append(np.mean(review_vector, axis=0))\n",
        "    else:\n",
        "        feature_vectors.append(np.zeros(word2vec_model.vector_size))\n"
      ],
      "metadata": {
        "id": "oWAiXuviAbQj"
      },
      "execution_count": 34,
      "outputs": []
    },
    {
      "cell_type": "code",
      "source": [
        "#function that runs model different models\n",
        "def train_model(model, X_train, y_train):\n",
        "    model.fit(X_train, y_train)\n",
        "    return model"
      ],
      "metadata": {
        "id": "Kd7BUC_dAcEq"
      },
      "execution_count": 35,
      "outputs": []
    },
    {
      "cell_type": "code",
      "source": [
        "#implementing random forest classifier\n",
        "from sklearn.ensemble import RandomForestClassifier\n",
        "from sklearn.model_selection import train_test_split\n",
        "\n",
        "X = feature_vectors\n",
        "y = movies['label']\n",
        "# Split the data into training and testing sets\n",
        "X_train, X_test, y_train, y_test = train_test_split(X, y, test_size=0.2, random_state=42)\n",
        "\n",
        "# Create an instance of the model\n",
        "rf = RandomForestClassifier(n_estimators=100, random_state=42)\n",
        "rf = train_model(rf, X_train, y_train)"
      ],
      "metadata": {
        "id": "PiFpQ_AwBkY0"
      },
      "execution_count": 39,
      "outputs": []
    },
    {
      "cell_type": "code",
      "source": [
        "#prediction\n",
        "rf_pred = rf.predict(X_test)"
      ],
      "metadata": {
        "id": "ZtCVIc-jDdcZ"
      },
      "execution_count": 40,
      "outputs": []
    },
    {
      "cell_type": "code",
      "source": [
        "#accuracy checking\n",
        "from sklearn.metrics import accuracy_score\n",
        "\n",
        "rf_accuracy = accuracy_score(rf_pred, y_test)\n",
        "rf_accuracy"
      ],
      "metadata": {
        "colab": {
          "base_uri": "https://localhost:8080/"
        },
        "id": "HSH-X3IZDsUR",
        "outputId": "6645e306-51ef-44f2-87f8-0242dcd2695a"
      },
      "execution_count": 43,
      "outputs": [
        {
          "output_type": "execute_result",
          "data": {
            "text/plain": [
              "0.8106"
            ]
          },
          "metadata": {},
          "execution_count": 43
        }
      ]
    }
  ]
}